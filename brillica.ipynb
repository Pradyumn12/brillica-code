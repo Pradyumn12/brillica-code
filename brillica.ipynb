{
 "cells": [
  {
   "cell_type": "code",
   "execution_count": 17,
   "id": "ee08be15",
   "metadata": {},
   "outputs": [
    {
     "name": "stdout",
     "output_type": "stream",
     "text": [
      "x is smallest\n"
     ]
    }
   ],
   "source": [
    "x=5\n",
    "y=6\n",
    "if x<y:\n",
    "    print('x is smallest')\n",
    "else:\n",
    "    print('y is smallest')"
   ]
  },
  {
   "cell_type": "code",
   "execution_count": null,
   "id": "2719efd0",
   "metadata": {},
   "outputs": [],
   "source": []
  },
  {
   "cell_type": "code",
   "execution_count": 18,
   "id": "c6d2a42a",
   "metadata": {},
   "outputs": [
    {
     "name": "stdout",
     "output_type": "stream",
     "text": [
      "x is positive\n"
     ]
    }
   ],
   "source": [
    "x=5\n",
    "if x>=0:\n",
    "    print('x is positive')\n",
    "else:\n",
    "    print('x is negative')"
   ]
  },
  {
   "cell_type": "code",
   "execution_count": 20,
   "id": "5907a7f9",
   "metadata": {},
   "outputs": [
    {
     "name": "stdout",
     "output_type": "stream",
     "text": [
      "x is odd\n"
     ]
    }
   ],
   "source": [
    "x=7\n",
    "if x%2 == 0:\n",
    "    print('x is even')\n",
    "else:\n",
    "    print('x is odd')"
   ]
  },
  {
   "cell_type": "code",
   "execution_count": 24,
   "id": "1db48656",
   "metadata": {},
   "outputs": [
    {
     "name": "stdout",
     "output_type": "stream",
     "text": [
      "n1 is greatest\n",
      "n3 is greatest\n"
     ]
    }
   ],
   "source": [
    "n1 = 12\n",
    "n2 = 9\n",
    "n3 = 7\n",
    "if n2<n1>n3:\n",
    "    print('n1 is greatest')\n",
    "elif n1<n2>n3:\n",
    "        print('n2 is greatest')\n",
    "else:\n",
    "    print('n3 is greatest')"
   ]
  },
  {
   "cell_type": "code",
   "execution_count": 4,
   "id": "26da10d2",
   "metadata": {},
   "outputs": [
    {
     "name": "stdout",
     "output_type": "stream",
     "text": [
      "Enter your marks80\n",
      "Grade A\n"
     ]
    }
   ],
   "source": [
    "marks = int(input('Enter your marks'))\n",
    "if marks >= 80:\n",
    "    print('Grade A')\n",
    "elif marks >= 60:\n",
    "    print('Grade B')\n",
    "elif marks >= 40:\n",
    "    print('Grade C')\n",
    "else:\n",
    "    print('Grade E')"
   ]
  },
  {
   "cell_type": "code",
   "execution_count": 8,
   "id": "e5582b5a",
   "metadata": {},
   "outputs": [
    {
     "name": "stdout",
     "output_type": "stream",
     "text": [
      "Enter your income500000\n",
      "No Tax\n"
     ]
    }
   ],
   "source": [
    "income = int(input('Enter your income'))\n",
    "if income <= 500000:\n",
    "    print('No Tax')\n",
    "elif income <= 700000:\n",
    "    print(\"tax : \",(income*5)/100)\n",
    "elif income <= 900000:\n",
    "    print(\"tax : \",(income*10)/100)\n",
    "elif income <= 1200000:\n",
    "    print(\"tax : \",(income*15)/100)\n",
    "elif income <= 1500000:\n",
    "    print(\"tax : \",(income*20)/100)\n",
    "else:\n",
    "    print(\"tax : \",(income*25)/100)"
   ]
  },
  {
   "cell_type": "code",
   "execution_count": 9,
   "id": "182673f2",
   "metadata": {},
   "outputs": [
    {
     "ename": "SyntaxError",
     "evalue": "unexpected EOF while parsing (<ipython-input-9-73bcd91ec471>, line 6)",
     "output_type": "error",
     "traceback": [
      "\u001b[1;36m  File \u001b[1;32m\"<ipython-input-9-73bcd91ec471>\"\u001b[1;36m, line \u001b[1;32m6\u001b[0m\n\u001b[1;33m    if voter_ID == 'y':\u001b[0m\n\u001b[1;37m                       ^\u001b[0m\n\u001b[1;31mSyntaxError\u001b[0m\u001b[1;31m:\u001b[0m unexpected EOF while parsing\n"
     ]
    }
   ],
   "source": [
    "dl = input('do you have dl')\n",
    "if dl == 'y':\n",
    "    print('You are eligible for driving ')\n",
    "else:\n",
    "    voter_ID = input('Do you have voter ID')\n",
    "    if voter_ID == 'y':\n",
    "        print('You are eligible for driving')\n",
    "    else:\n",
    "        LL= input('Do you have learning license')\n",
    "        Adhar_card = input('Do you have adhar acrd')\n",
    "        if LL == 'y' and Adhar_card == 'y':\n",
    "            print('You are eligible for driving')\n",
    "        else:\n",
    "            print('apply for dl')\n",
    "        \n",
    "        "
   ]
  },
  {
   "cell_type": "code",
   "execution_count": 12,
   "id": "9f6ad8cb",
   "metadata": {},
   "outputs": [
    {
     "name": "stdout",
     "output_type": "stream",
     "text": [
      "Enter number6\n",
      "720\n"
     ]
    }
   ],
   "source": [
    "num = int(input('Enter number'))\n",
    "fact=1\n",
    "for i in range(1,num+1):\n",
    "    fact= fact*i\n",
    "print(fact)\n",
    "\n"
   ]
  },
  {
   "cell_type": "code",
   "execution_count": null,
   "id": "68df4e30",
   "metadata": {},
   "outputs": [],
   "source": [
    "students = int('Enter the student count')\n",
    "for i in range(student):\n",
    "    marks = int(input('Enter your marks'))\n",
    "    if marks >= 80:\n",
    "        print('Grade A')\n",
    "    elif marks >= 60:\n",
    "        print('Grade B')\n",
    "    elif marks >= 40:\n",
    "        print('Grade C')\n",
    "    else:\n",
    "        print('Grade E')"
   ]
  },
  {
   "cell_type": "code",
   "execution_count": 16,
   "id": "dd7afb24",
   "metadata": {},
   "outputs": [
    {
     "name": "stdout",
     "output_type": "stream",
     "text": [
      "y is greatest\n"
     ]
    }
   ],
   "source": [
    "x=5\n",
    "y=6\n",
    "if x>y:\n",
    "    print('x is greatest')\n",
    "else:\n",
    "    print('y is greatest')"
   ]
  },
  {
   "cell_type": "code",
   "execution_count": 1,
   "id": "55eab9f1",
   "metadata": {},
   "outputs": [
    {
     "name": "stdout",
     "output_type": "stream",
     "text": [
      "***\n",
      "***\n",
      "***\n"
     ]
    }
   ],
   "source": [
    "for i in range(3):\n",
    "    print('*'*3)"
   ]
  },
  {
   "cell_type": "code",
   "execution_count": 5,
   "id": "6e5024a1",
   "metadata": {},
   "outputs": [
    {
     "name": "stdout",
     "output_type": "stream",
     "text": [
      "* * * * \n",
      "* * * * \n",
      "* * * * \n"
     ]
    }
   ],
   "source": [
    "for i in range(3):\n",
    "    for j in range(4):\n",
    "        print('*',end=' ')\n",
    "    print('')"
   ]
  },
  {
   "cell_type": "code",
   "execution_count": 10,
   "id": "4b14829e",
   "metadata": {},
   "outputs": [
    {
     "name": "stdout",
     "output_type": "stream",
     "text": [
      "* * * * * \n",
      "* * * * \n",
      "* * * \n",
      "* * \n",
      "* \n"
     ]
    }
   ],
   "source": [
    "for i in range(5,0,-1):\n",
    "    print(\"* \"*i)"
   ]
  },
  {
   "cell_type": "code",
   "execution_count": 23,
   "id": "265ec0f6",
   "metadata": {},
   "outputs": [
    {
     "name": "stdout",
     "output_type": "stream",
     "text": [
      "* \n",
      "* * * \n",
      "* * * * * \n",
      "* * * * * * * \n",
      "* * * * * * * * * \n"
     ]
    }
   ],
   "source": [
    "for i in range(1,10,2):\n",
    "    for j in range(1,i+1):\n",
    "        print('*',end=' ')\n",
    "    print('')"
   ]
  },
  {
   "cell_type": "code",
   "execution_count": 53,
   "id": "a89632c4",
   "metadata": {},
   "outputs": [
    {
     "name": "stdout",
     "output_type": "stream",
     "text": [
      " * * * * * *\n",
      "  * * * * *\n",
      "   * * * *\n",
      "    * * *\n",
      "     * *\n",
      "      *\n"
     ]
    }
   ],
   "source": [
    "n=6\n",
    "\n",
    "for i in range(n):\n",
    "    for k in range(i):\n",
    "        print(\" \",end='')\n",
    "    for j in range(n-i):\n",
    "        print(' *',end='')\n",
    "    \n",
    "    print()"
   ]
  },
  {
   "cell_type": "code",
   "execution_count": 56,
   "id": "2532c34e",
   "metadata": {},
   "outputs": [
    {
     "name": "stdout",
     "output_type": "stream",
     "text": [
      " *    \n",
      " * *   \n",
      " * * *  \n",
      " * * * * \n"
     ]
    }
   ],
   "source": [
    "n=4\n",
    "\n",
    "for i in range(n):\n",
    "    for j in range(i+1):\n",
    "        print(' *',end='')\n",
    "    for k in range(n-i):\n",
    "        print(\" \",end='')\n",
    "   \n",
    "    \n",
    "    print()"
   ]
  },
  {
   "cell_type": "code",
   "execution_count": 2,
   "id": "0dcabaf2",
   "metadata": {},
   "outputs": [
    {
     "name": "stdout",
     "output_type": "stream",
     "text": [
      "**** \n",
      "*   *\n",
      "*   *\n",
      "**** \n",
      "*   *\n",
      "*   *\n",
      "**** \n"
     ]
    }
   ],
   "source": [
    "for i in range(7):\n",
    "    for j in range(5):\n",
    "        if (i==0 or i==3 or i==6) and (j!=4)or(i==1 or i==2 or i==4 or i==5 )and(j==0 or j==4):\n",
    "            print('*',end='')\n",
    "           \n",
    "        else:\n",
    "            print(' ',end='')\n",
    "    print()"
   ]
  },
  {
   "cell_type": "code",
   "execution_count": 3,
   "id": "3ef49875",
   "metadata": {},
   "outputs": [
    {
     "name": "stdout",
     "output_type": "stream",
     "text": [
      " *** \n",
      "*   *\n",
      "*    \n",
      "* ***\n",
      "*   *\n",
      "*   *\n",
      " ****\n"
     ]
    }
   ],
   "source": [
    "for i in range(7):\n",
    "    for j in range(5):\n",
    "        if (( i==6) and (j!=0 ))or((i==2 )and(j==0))or(i==0 and (j!=0 and j!=4)) or (( i==4 or i==1 or i==5) and (j==4 or j==0))or( i==3 and (j==0 or j==4 or j==3 or j==2)):\n",
    "            print('*',end='')\n",
    "           \n",
    "        else:\n",
    "            print(' ',end='')\n",
    "    print()"
   ]
  },
  {
   "cell_type": "code",
   "execution_count": 4,
   "id": "e9adbec7",
   "metadata": {},
   "outputs": [
    {
     "name": "stdout",
     "output_type": "stream",
     "text": [
      "120\n"
     ]
    }
   ],
   "source": [
    "n=5\n",
    "s=1\n",
    "while n>0:\n",
    "    s=s*n\n",
    "    n-=1\n",
    "print(s)"
   ]
  },
  {
   "cell_type": "code",
   "execution_count": 25,
   "id": "68be43a9",
   "metadata": {},
   "outputs": [
    {
     "name": "stdout",
     "output_type": "stream",
     "text": [
      "       * \n",
      "      * * \n",
      "     * * * \n",
      "    * * * * \n",
      "   * * * * * \n",
      "  * * * * * * \n",
      " * * * * * * * \n"
     ]
    }
   ],
   "source": [
    "k=i=7\n",
    "\n",
    "while i>0:\n",
    "    j=k-i\n",
    "    s=i\n",
    "    while s>0:\n",
    "        print(' ',end='')\n",
    "        s-=1\n",
    "    while j>-1:\n",
    "        print('* ',end='')\n",
    "        j-=1\n",
    "    print()\n",
    "    i-=1"
   ]
  },
  {
   "cell_type": "code",
   "execution_count": 111,
   "id": "8ff37b9a",
   "metadata": {},
   "outputs": [
    {
     "name": "stdout",
     "output_type": "stream",
     "text": [
      "           *          \n",
      "         *   *        \n",
      "       *       *      \n",
      "     *           *    \n",
      "   *               *  \n",
      " *                   *\n",
      "   *               *  \n",
      "     *           *    \n",
      "       *       *      \n",
      "         *   *        \n",
      "           *          \n"
     ]
    }
   ],
   "source": [
    "k=i=6\n",
    "\n",
    "while i>-k+1:\n",
    "    s=k\n",
    "    while s>-k+1:\n",
    "        if((i==1+k-s)or(i==s+k-1)or(i==s-k+1)or(-k+3==s+i)):\n",
    "            print(' *',end='')\n",
    "        else:\n",
    "            print('  ',end='')\n",
    "        s-=1\n",
    "    print()\n",
    "    i-=1"
   ]
  },
  {
   "cell_type": "code",
   "execution_count": 13,
   "id": "7a859d93",
   "metadata": {},
   "outputs": [
    {
     "name": "stdout",
     "output_type": "stream",
     "text": [
      "                    *                     \n",
      "                  * * *                   \n",
      "                * * * * *                 \n",
      "              * * * * * * *               \n",
      "            * * * * * * * * *             \n",
      "          * * * * * * * * * * *           \n",
      "        * * * * * * * * * * * * *         \n",
      "      * * * * * * * * * * * * * * *       \n",
      "    * * * * * * * * * * * * * * * * *     \n",
      "  * * * * * * * * * * * * * * * * * * *   \n",
      "* * * * * * * * * * * * * * * * * * * * * \n",
      "  * * * * * * * * * * * * * * * * * * *   \n",
      "    * * * * * * * * * * * * * * * * *     \n",
      "      * * * * * * * * * * * * * * *       \n",
      "        * * * * * * * * * * * * *         \n",
      "          * * * * * * * * * * *           \n",
      "            * * * * * * * * *             \n",
      "              * * * * * * *               \n",
      "                * * * * *                 \n",
      "                  * * *                   \n",
      "                    *                     \n"
     ]
    }
   ],
   "source": [
    "k=11\n",
    "c=r=0\n",
    "mid = k-1\n",
    "while c<(2*k)-1:\n",
    "    r=0\n",
    "    while r<(2*k)-1:\n",
    "        if((mid <= c+r) and (mid >= c-r) and (mid >= r-c) and (3*mid >= r+c)):\n",
    "            print('* ',end='')\n",
    "        else:\n",
    "            print('  ',end='')\n",
    "        r+=1\n",
    "    print()\n",
    "    c+=1"
   ]
  },
  {
   "cell_type": "code",
   "execution_count": null,
   "id": "c266fed9",
   "metadata": {},
   "outputs": [],
   "source": []
  },
  {
   "cell_type": "code",
   "execution_count": 1,
   "id": "41c3f22a",
   "metadata": {},
   "outputs": [
    {
     "name": "stdout",
     "output_type": "stream",
     "text": [
      "        *   *     \n",
      "      *       *   \n",
      "    *           * \n",
      "  *               \n",
      "*                 \n",
      "                  \n",
      "*                 \n",
      "  *               \n",
      "    *           * \n"
     ]
    }
   ],
   "source": [
    "k=i=5\n",
    "c=1\n",
    "r=1\n",
    "mid = k+1\n",
    "while c<(2*k):\n",
    "    r=1\n",
    "    while r<(2*k):\n",
    "        if (mid==c+r) or (mid==c-r) or (mid==r-c) or (3*(mid)==r+c):\n",
    "            print('* ',end='')\n",
    "        else:\n",
    "            print('  ',end='')\n",
    "        r+=1\n",
    "    print()\n",
    "    c+=1"
   ]
  },
  {
   "cell_type": "code",
   "execution_count": 6,
   "id": "80529558",
   "metadata": {},
   "outputs": [
    {
     "data": {
      "text/plain": [
       "'welcome'"
      ]
     },
     "execution_count": 6,
     "metadata": {},
     "output_type": "execute_result"
    }
   ],
   "source": [
    "d = 'Hello, welcome to the world of python'\n",
    "d[7:14]\n"
   ]
  },
  {
   "cell_type": "code",
   "execution_count": 7,
   "id": "ac3ff269",
   "metadata": {},
   "outputs": [
    {
     "ename": "TypeError",
     "evalue": "'str' object cannot be interpreted as an integer",
     "output_type": "error",
     "traceback": [
      "\u001b[1;31m---------------------------------------------------------------------------\u001b[0m",
      "\u001b[1;31mTypeError\u001b[0m                                 Traceback (most recent call last)",
      "\u001b[1;32m<ipython-input-7-87ce36ced3e5>\u001b[0m in \u001b[0;36m<module>\u001b[1;34m\u001b[0m\n\u001b[0;32m      1\u001b[0m \u001b[0ma\u001b[0m\u001b[1;33m=\u001b[0m \u001b[1;34m'dasf'\u001b[0m\u001b[1;33m\u001b[0m\u001b[1;33m\u001b[0m\u001b[0m\n\u001b[1;32m----> 2\u001b[1;33m \u001b[1;32mfor\u001b[0m \u001b[0mi\u001b[0m \u001b[1;32min\u001b[0m \u001b[0mrange\u001b[0m\u001b[1;33m(\u001b[0m\u001b[0ma\u001b[0m\u001b[1;33m)\u001b[0m\u001b[1;33m:\u001b[0m\u001b[1;33m\u001b[0m\u001b[1;33m\u001b[0m\u001b[0m\n\u001b[0m\u001b[0;32m      3\u001b[0m     \u001b[0mprint\u001b[0m\u001b[1;33m(\u001b[0m\u001b[0mi\u001b[0m\u001b[1;33m)\u001b[0m\u001b[1;33m\u001b[0m\u001b[1;33m\u001b[0m\u001b[0m\n",
      "\u001b[1;31mTypeError\u001b[0m: 'str' object cannot be interpreted as an integer"
     ]
    }
   ],
   "source": [
    "a= 'dasf'\n",
    "for i in range(a):\n",
    "    print(i)"
   ]
  },
  {
   "cell_type": "code",
   "execution_count": 1,
   "id": "7f74d894",
   "metadata": {},
   "outputs": [
    {
     "name": "stdout",
     "output_type": "stream",
     "text": [
      "Enter a stringsdfgdytrd\n",
      "Enter a single characterd\n",
      "3\n"
     ]
    }
   ],
   "source": [
    "str = input(\"Enter a string \")\n",
    "ch = input('Enter a single character ')\n",
    "count = 0\n",
    "for i in str:\n",
    "    if ch == i:\n",
    "        count+=1\n",
    "        \n",
    "print(count)\n",
    "        "
   ]
  },
  {
   "cell_type": "code",
   "execution_count": null,
   "id": "e46d16b9",
   "metadata": {},
   "outputs": [],
   "source": [
    "n1 = []\n",
    "n1.remove()"
   ]
  },
  {
   "cell_type": "code",
   "execution_count": 9,
   "id": "fdae303d",
   "metadata": {},
   "outputs": [
    {
     "name": "stdout",
     "output_type": "stream",
     "text": [
      "namefedf\n",
      "genderfff\n",
      "is marriedYess\n",
      "Mrs.fedf\n"
     ]
    }
   ],
   "source": [
    "name = input('name')\n",
    "gen = input('gender')\n",
    "married = input('is married')\n",
    "\n",
    "if gen.lower().startswith('m'):\n",
    "    if married.lower().startswith('y'):\n",
    "        name = 'Mr.'+name\n",
    "    else:\n",
    "        name = 'Mr.'+name\n",
    "elif gen.lower().startswith('f') :\n",
    "    if married.lower().startswith('y'):\n",
    "        name = 'Mrs.'+name\n",
    "    else:\n",
    "        name = 'Miss.'+name\n",
    "print(name)"
   ]
  },
  {
   "cell_type": "code",
   "execution_count": 2,
   "id": "5f8d28a0",
   "metadata": {},
   "outputs": [
    {
     "name": "stdout",
     "output_type": "stream",
     "text": [
      "* \n",
      "* * \n",
      "* * * \n",
      "* * * * \n",
      "* * * \n",
      "* * \n",
      "* \n"
     ]
    }
   ],
   "source": [
    "n=4\n",
    "\n",
    "for i in range(1,n*2):\n",
    "    if i<=n:\n",
    "        print('* '*i)\n",
    "    else:\n",
    "        print('* '*((n*2)-i))\n",
    "    "
   ]
  },
  {
   "cell_type": "code",
   "execution_count": 35,
   "id": "a6b615b6",
   "metadata": {},
   "outputs": [
    {
     "name": "stdout",
     "output_type": "stream",
     "text": [
      "enter the side3\n",
      "enter the side5\n",
      "enter the side4\n",
      "y\n"
     ]
    }
   ],
   "source": [
    "# side1 = int(input(\"Enter the first side of triangle  \"))\n",
    "# side2 = int(input(\"Enter the first side of triangle  \"))\n",
    "# side3 = int(input(\"Enter the first side of triangle  \"))\n",
    "\n",
    "# max = 1\n",
    "# if side2 > max:\n",
    "#     max = 2\n",
    "# if side3 > max:\n",
    "#     max = 3\n",
    "    \n",
    "# if \n",
    "sides = []\n",
    "for i in range(3):\n",
    "    sides.append(int(input('enter the side')))\n",
    "max = 0\n",
    "for i in range(3):\n",
    "    if sides[i]>max:\n",
    "        max = sides[i]\n",
    "\n",
    "listt = []\n",
    "for i in range(3):\n",
    "    if max != sides[i]:\n",
    "        listt.append(sides[i])\n",
    "        \n",
    "if len(listt)==2:\n",
    "    if max*max == listt[0]*listt[0] + listt[1]*listt[1]:\n",
    "        print('y')\n",
    "    else:\n",
    "        print('n')\n",
    "else:\n",
    "    print('n')"
   ]
  },
  {
   "cell_type": "code",
   "execution_count": 8,
   "id": "aff93f98",
   "metadata": {},
   "outputs": [
    {
     "name": "stdout",
     "output_type": "stream",
     "text": [
      "Enter the first side of triangle  4\n",
      "Enter the second side of triangle  9\n",
      "Enter the third side of triangle  7\n",
      "No\n"
     ]
    }
   ],
   "source": [
    "side1 = int(input(\"Enter the first side of triangle  \"))\n",
    "side2 = int(input(\"Enter the second side of triangle  \"))\n",
    "side3 = int(input(\"Enter the third side of triangle  \"))\n",
    "\n",
    "if side2<side1>side3:\n",
    "    if side1*side1 == side2*side2+side3*side3:\n",
    "        print('Yes')\n",
    "    else:\n",
    "        print('No')\n",
    "elif side1<side2>side3:\n",
    "    if side2*side2 == side1*side1+side3*side3:\n",
    "        print('Yes')\n",
    "    else:\n",
    "        print('No')\n",
    "elif side2<side3>side1:\n",
    "    if side3*side3 == side2*side2+side1*side1:\n",
    "        print('Yes')\n",
    "    else:\n",
    "        print('No')\n",
    "else:\n",
    "    print('No')"
   ]
  },
  {
   "cell_type": "code",
   "execution_count": 15,
   "id": "ddaeeab6",
   "metadata": {},
   "outputs": [
    {
     "name": "stdout",
     "output_type": "stream",
     "text": [
      "Enter the first side of triangle  6\n",
      "Enter the second side of triangle  7\n",
      "Enter the third side of triangle  8\n",
      "No\n"
     ]
    }
   ],
   "source": [
    "side1 = int(input(\"Enter the first side of triangle  \"))\n",
    "side2 = int(input(\"Enter the second side of triangle  \"))\n",
    "side3 = int(input(\"Enter the third side of triangle  \"))\n",
    "\n",
    "\n",
    "if side1**2 == side2**2+side3**2 or side2**2 == side1**2+side3**2 or  side3**2 == side2**2+side1**2:\n",
    "    print('Yes')\n",
    "else:\n",
    "    print('No') \n"
   ]
  },
  {
   "cell_type": "code",
   "execution_count": 36,
   "id": "464ef83c",
   "metadata": {},
   "outputs": [
    {
     "name": "stdout",
     "output_type": "stream",
     "text": [
      "  *   \n",
      "* * * \n"
     ]
    }
   ],
   "source": [
    "k=2\n",
    "c=r=0\n",
    "mid = k-1\n",
    "while c<k:\n",
    "    r=0\n",
    "    while r<(2*k)-1:\n",
    "        if(mid == c+r) or mid == r-c or c==k-1:\n",
    "            print('* ',end='')\n",
    "        else:\n",
    "            print('  ',end='')\n",
    "        r+=1\n",
    "    print()\n",
    "    c+=1"
   ]
  },
  {
   "cell_type": "code",
   "execution_count": 1,
   "id": "1ccddc92",
   "metadata": {},
   "outputs": [
    {
     "ename": "NameError",
     "evalue": "name 'n' is not defined",
     "output_type": "error",
     "traceback": [
      "\u001b[1;31m---------------------------------------------------------------------------\u001b[0m",
      "\u001b[1;31mNameError\u001b[0m                                 Traceback (most recent call last)",
      "\u001b[1;32m<ipython-input-1-82fff0e93013>\u001b[0m in \u001b[0;36m<module>\u001b[1;34m\u001b[0m\n\u001b[0;32m      1\u001b[0m \u001b[0mlist\u001b[0m \u001b[1;33m=\u001b[0m \u001b[1;33m[\u001b[0m\u001b[1;33m]\u001b[0m\u001b[1;33m\u001b[0m\u001b[1;33m\u001b[0m\u001b[0m\n\u001b[1;32m----> 2\u001b[1;33m \u001b[1;32mwhile\u001b[0m\u001b[1;33m(\u001b[0m\u001b[0mn\u001b[0m \u001b[1;33m==\u001b[0m \u001b[1;34m'y'\u001b[0m \u001b[1;32mor\u001b[0m \u001b[0mn\u001b[0m \u001b[1;33m==\u001b[0m \u001b[1;34m'Y'\u001b[0m\u001b[1;33m)\u001b[0m\u001b[1;33m:\u001b[0m\u001b[1;33m\u001b[0m\u001b[1;33m\u001b[0m\u001b[0m\n\u001b[0m\u001b[0;32m      3\u001b[0m     \u001b[0mlist\u001b[0m\u001b[1;33m.\u001b[0m\u001b[0mappend\u001b[0m\u001b[1;33m(\u001b[0m\u001b[0minput\u001b[0m\u001b[1;33m(\u001b[0m\u001b[1;34m'enter an element'\u001b[0m\u001b[1;33m)\u001b[0m\u001b[1;33m)\u001b[0m\u001b[1;33m\u001b[0m\u001b[1;33m\u001b[0m\u001b[0m\n\u001b[0;32m      4\u001b[0m     \u001b[0mn\u001b[0m \u001b[1;33m=\u001b[0m \u001b[0minput\u001b[0m\u001b[1;33m(\u001b[0m\u001b[1;34m'you wana enter another value y or n'\u001b[0m\u001b[1;33m)\u001b[0m\u001b[1;33m\u001b[0m\u001b[1;33m\u001b[0m\u001b[0m\n",
      "\u001b[1;31mNameError\u001b[0m: name 'n' is not defined"
     ]
    }
   ],
   "source": [
    "list = []\n",
    "while(n == 'y' or n == 'Y'):\n",
    "    list.append(input('enter an element'))\n",
    "    n = input('you wana enter another value y or n')"
   ]
  },
  {
   "cell_type": "code",
   "execution_count": 15,
   "id": "d7bc1eec",
   "metadata": {},
   "outputs": [
    {
     "name": "stdout",
     "output_type": "stream",
     "text": [
      "Enter the number of elements3\n",
      "Enter the value of first list10\n",
      "Enter the value of first list30\n",
      "Enter the value of first list20\n",
      "Enter the value of second list3\n",
      "Enter the value of second list5\n",
      "Enter the value of second list2\n",
      "[10, 10, 10, 30, 30, 30, 30, 30, 20, 20]\n"
     ]
    }
   ],
   "source": [
    "n1 = [10,20,30]\n",
    "n2 = [3,2,5]\n",
    "n3 = []\n",
    "\n",
    "# n = int(input('Enter the number of elements'))\n",
    "# n1 = []\n",
    "# n2 = []\n",
    "# for i in range(n):\n",
    "#     n1.append(int(input('Enter the value of first list')))\n",
    "# for i in range(n):\n",
    "#     n2.append(int(input('Enter the value of second list')))\n",
    "\n",
    "\n",
    "for i in range(len(n1)):\n",
    "    for j in range(n2[i]):\n",
    "        n3.append(n1[i])\n",
    "print(n3)"
   ]
  },
  {
   "cell_type": "code",
   "execution_count": 24,
   "id": "c66ce40b",
   "metadata": {},
   "outputs": [
    {
     "name": "stdout",
     "output_type": "stream",
     "text": [
      "[13, 22, 35]\n"
     ]
    }
   ],
   "source": [
    "n1 = [10,20,30]\n",
    "n2 = [3,2,5]\n",
    "n3 = []\n",
    "\n",
    "# n = int(input('Enter the number of elements'))\n",
    "# n1 = []\n",
    "# n2 = []\n",
    "# for i in range(n):\n",
    "#     n1.append(int(input('Enter the value of first list')))\n",
    "# for i in range(n):\n",
    "#     n2.append(int(input('Enter the value of second list')))\n",
    "\n",
    "\n",
    "for i in range(len(n1)):\n",
    "    n3.append(n1[i]+n2[i])\n",
    "print(n3)"
   ]
  },
  {
   "cell_type": "code",
   "execution_count": 23,
   "id": "e9e796e9",
   "metadata": {},
   "outputs": [
    {
     "name": "stdout",
     "output_type": "stream",
     "text": [
      "7 is 2 times present at [3, 4]\n"
     ]
    }
   ],
   "source": [
    "n1 = [2,3,5,7,7,12,6,3]\n",
    "n2 = 7\n",
    "\n",
    "count = 0\n",
    "l = []\n",
    "if n2 in n1:\n",
    "    j=0\n",
    "    for i in n1:\n",
    "        if n2 == i:\n",
    "            count+=1\n",
    "            l.append(j)\n",
    "        j +=1\n",
    "    print(n2,'is',count,'times present at',l)\n",
    "else:\n",
    "    print(n2,'is not present')"
   ]
  },
  {
   "cell_type": "markdown",
   "id": "f98d13e4",
   "metadata": {},
   "source": [
    "n1 = [2,3,5,7,7,12,6,8,10,3]\n",
    "\n",
    "for i in range(len(n1)):\n",
    "    for j in range(len(n1)-1):\n",
    "        if n1[j] > n1[j+1]:\n",
    "            n1[j],n1[j+1] = n1[j+1],n1[j]\n",
    "print(n1)"
   ]
  },
  {
   "cell_type": "code",
   "execution_count": 44,
   "id": "c71b1d00",
   "metadata": {},
   "outputs": [
    {
     "name": "stdout",
     "output_type": "stream",
     "text": [
      "number of student2\n",
      "Enter the name of student  er\n",
      "Enter the marks of student  67\n",
      "Enter the name of student  we\n",
      "Enter the marks of student  78\n",
      "\n",
      " we  gets the highest marks 78\n"
     ]
    }
   ],
   "source": [
    "l1 = []\n",
    "st = []\n",
    "\n",
    "n = int(input('number of student'))\n",
    "for i in range(n):\n",
    "    st.append(input('Enter the name of student  '))\n",
    "    l1.append(int(input('Enter the marks of student  ')))\n",
    "\n",
    "\n",
    "max = l1[0]\n",
    "s = 0\n",
    "for i in range(len(l1)):\n",
    "    if max < l1[i]:\n",
    "        max = l1[i]\n",
    "        s = i\n",
    "        \n",
    "print('\\n',st[s],' gets the highest marks ',end='')\n",
    "print(max)\n"
   ]
  },
  {
   "cell_type": "code",
   "execution_count": null,
   "id": "00ae7ade",
   "metadata": {},
   "outputs": [],
   "source": [
    "(x−h) \n",
    "2\n",
    " +(y−k) \n",
    "2\n",
    " =r \n",
    "2"
   ]
  },
  {
   "cell_type": "code",
   "execution_count": null,
   "id": "4cc030ef",
   "metadata": {},
   "outputs": [],
   "source": [
    "k=11\n",
    "c=r=0\n",
    "mid = k-1\n",
    "while c<(2*k)-1:\n",
    "    r=0\n",
    "    while r<(2*k)-1:\n",
    "        if((mid <= c+r) and (mid >= c-r) and (mid >= r-c) and (3*mid >= r+c)):\n",
    "            print('* ',end='')\n",
    "        else:\n",
    "            print('  ',end='')\n",
    "        r+=1\n",
    "    print()\n",
    "    c+=1"
   ]
  },
  {
   "cell_type": "code",
   "execution_count": 63,
   "id": "876a4202",
   "metadata": {},
   "outputs": [
    {
     "name": "stdout",
     "output_type": "stream",
     "text": [
      " y =  3  x=  9\n",
      " y =  4  x=  9\n",
      " y =  5  x=  10\n",
      " y =  6  x=  10\n",
      " y =  7  x=  10\n",
      " y =  8  x=  9\n",
      " y =  9  x=  9\n",
      " y =  3  x=  9\n",
      " y =  4  x=  9\n",
      " y =  5  x=  10\n",
      " y =  6  x=  10\n",
      " y =  7  x=  10\n",
      " y =  8  x=  9\n",
      " y =  9  x=  9\n",
      " y =  3  x=  9\n",
      " y =  4  x=  9\n",
      " y =  5  x=  10\n",
      " y =  6  x=  10\n",
      " y =  7  x=  10\n",
      " y =  8  x=  9\n",
      " y =  9  x=  9\n",
      " x =  3  y=  9\n",
      " x =  3  y=  9\n",
      " x =  3  y=  9\n",
      " y =  3  x=  9\n",
      " x =  3  y=  9\n",
      " y =  4  x=  9\n",
      " x =  3  y=  9\n",
      " y =  5  x=  10\n",
      " x =  3  y=  9\n",
      " y =  6  x=  10\n",
      " x =  3  y=  9\n",
      " y =  7  x=  10\n",
      " x =  3  y=  9\n",
      " y =  8  x=  9\n",
      " x =  3  y=  9\n",
      " y =  9  x=  9\n",
      " x =  3  y=  9\n",
      " x =  3  y=  9\n",
      " x =  3  y=  9\n",
      " x =  3  y=  9\n",
      " x =  3  y=  9\n",
      " x =  3  y=  9\n",
      " x =  3  y=  9\n",
      " x =  3  y=  9\n",
      " x =  3  y=  9\n",
      " x =  3  y=  9\n",
      " x =  3  y=  9\n",
      " x =  4  y=  9\n",
      " x =  4  y=  9\n",
      " x =  4  y=  9\n",
      " y =  3  x=  9\n",
      " x =  4  y=  9\n",
      " y =  4  x=  9\n",
      " x =  4  y=  9\n",
      " y =  5  x=  10\n",
      " x =  4  y=  9\n",
      " y =  6  x=  10\n",
      " x =  4  y=  9\n",
      " y =  7  x=  10\n",
      " x =  4  y=  9\n",
      " y =  8  x=  9\n",
      " x =  4  y=  9\n",
      " y =  9  x=  9\n",
      " x =  4  y=  9\n",
      " x =  4  y=  9\n",
      " x =  4  y=  9\n",
      " x =  4  y=  9\n",
      " x =  4  y=  9\n",
      " x =  4  y=  9\n",
      " x =  4  y=  9\n",
      " x =  4  y=  9\n",
      " x =  4  y=  9\n",
      " x =  4  y=  9\n",
      " x =  4  y=  9\n",
      " x =  5  y=  10\n",
      " x =  5  y=  10\n",
      " x =  5  y=  10\n",
      " y =  3  x=  9\n",
      " x =  5  y=  10\n",
      " y =  4  x=  9\n",
      " x =  5  y=  10\n",
      " y =  5  x=  10\n",
      " x =  5  y=  10\n",
      " y =  6  x=  10\n",
      " x =  5  y=  10\n",
      " y =  7  x=  10\n",
      " x =  5  y=  10\n",
      " y =  8  x=  9\n",
      " x =  5  y=  10\n",
      " y =  9  x=  9\n",
      " x =  5  y=  10\n",
      " x =  5  y=  10\n",
      " x =  5  y=  10\n",
      " x =  5  y=  10\n",
      " x =  5  y=  10\n",
      " x =  5  y=  10\n",
      " x =  5  y=  10\n",
      " x =  5  y=  10\n",
      " x =  5  y=  10\n",
      " x =  5  y=  10\n",
      " x =  5  y=  10\n",
      " x =  6  y=  10\n",
      " x =  6  y=  10\n",
      " x =  6  y=  10\n",
      " y =  3  x=  9\n",
      " x =  6  y=  10\n",
      " y =  4  x=  9\n",
      " x =  6  y=  10\n",
      " y =  5  x=  10\n",
      " x =  6  y=  10\n",
      " y =  6  x=  10\n",
      " x =  6  y=  10\n",
      " y =  7  x=  10\n",
      " x =  6  y=  10\n",
      " y =  8  x=  9\n",
      " x =  6  y=  10\n",
      " y =  9  x=  9\n",
      " x =  6  y=  10\n",
      " x =  6  y=  10\n",
      " x =  6  y=  10\n",
      " x =  6  y=  10\n",
      " x =  6  y=  10\n",
      " x =  6  y=  10\n",
      " x =  6  y=  10\n",
      " x =  6  y=  10\n",
      " x =  6  y=  10\n",
      " x =  6  y=  10\n",
      " x =  6  y=  10\n",
      " x =  7  y=  10\n",
      " x =  7  y=  10\n",
      " x =  7  y=  10\n",
      " y =  3  x=  9\n",
      " x =  7  y=  10\n",
      " y =  4  x=  9\n",
      " x =  7  y=  10\n",
      " y =  5  x=  10\n",
      " x =  7  y=  10\n",
      " y =  6  x=  10\n",
      " x =  7  y=  10\n",
      " y =  7  x=  10\n",
      " x =  7  y=  10\n",
      " y =  8  x=  9\n",
      " x =  7  y=  10\n",
      " y =  9  x=  9\n",
      " x =  7  y=  10\n",
      " x =  7  y=  10\n",
      " x =  7  y=  10\n",
      " x =  7  y=  10\n",
      " x =  7  y=  10\n",
      " x =  7  y=  10\n",
      " x =  7  y=  10\n",
      " x =  7  y=  10\n",
      " x =  7  y=  10\n",
      " x =  7  y=  10\n",
      " x =  7  y=  10\n",
      " x =  8  y=  9\n",
      " x =  8  y=  9\n",
      " x =  8  y=  9\n",
      " y =  3  x=  9\n",
      " x =  8  y=  9\n",
      " y =  4  x=  9\n",
      " x =  8  y=  9\n",
      " y =  5  x=  10\n",
      " x =  8  y=  9\n",
      " y =  6  x=  10\n",
      " x =  8  y=  9\n",
      " y =  7  x=  10\n",
      " x =  8  y=  9\n",
      " y =  8  x=  9\n",
      " x =  8  y=  9\n",
      " y =  9  x=  9\n",
      " x =  8  y=  9\n",
      " x =  8  y=  9\n",
      " x =  8  y=  9\n",
      " x =  8  y=  9\n",
      " x =  8  y=  9\n",
      " x =  8  y=  9\n",
      " x =  8  y=  9\n",
      " x =  8  y=  9\n",
      " x =  8  y=  9\n",
      " x =  8  y=  9\n",
      " x =  8  y=  9\n",
      " x =  9  y=  9\n",
      " x =  9  y=  9\n",
      " x =  9  y=  9\n",
      " y =  3  x=  9\n",
      " x =  9  y=  9\n",
      " y =  4  x=  9\n",
      " x =  9  y=  9\n",
      " y =  5  x=  10\n",
      " x =  9  y=  9\n",
      " y =  6  x=  10\n",
      " x =  9  y=  9\n",
      " y =  7  x=  10\n",
      " x =  9  y=  9\n",
      " y =  8  x=  9\n",
      " x =  9  y=  9\n",
      " y =  9  x=  9\n",
      " x =  9  y=  9\n",
      " x =  9  y=  9\n",
      " x =  9  y=  9\n",
      " x =  9  y=  9\n",
      " x =  9  y=  9\n",
      " x =  9  y=  9\n",
      " x =  9  y=  9\n",
      " x =  9  y=  9\n",
      " x =  9  y=  9\n",
      " x =  9  y=  9\n",
      " x =  9  y=  9\n",
      " y =  3  x=  9\n",
      " y =  4  x=  9\n",
      " y =  5  x=  10\n",
      " y =  6  x=  10\n",
      " y =  7  x=  10\n",
      " y =  8  x=  9\n",
      " y =  9  x=  9\n",
      " y =  3  x=  9\n",
      " y =  4  x=  9\n",
      " y =  5  x=  10\n",
      " y =  6  x=  10\n",
      " y =  7  x=  10\n",
      " y =  8  x=  9\n",
      " y =  9  x=  9\n",
      " y =  3  x=  9\n",
      " y =  4  x=  9\n",
      " y =  5  x=  10\n",
      " y =  6  x=  10\n",
      " y =  7  x=  10\n",
      " y =  8  x=  9\n",
      " y =  9  x=  9\n",
      " y =  3  x=  9\n",
      " y =  4  x=  9\n",
      " y =  5  x=  10\n",
      " y =  6  x=  10\n",
      " y =  7  x=  10\n",
      " y =  8  x=  9\n",
      " y =  9  x=  9\n",
      " y =  3  x=  9\n",
      " y =  4  x=  9\n",
      " y =  5  x=  10\n",
      " y =  6  x=  10\n",
      " y =  7  x=  10\n",
      " y =  8  x=  9\n",
      " y =  9  x=  9\n",
      " y =  3  x=  9\n",
      " y =  4  x=  9\n",
      " y =  5  x=  10\n",
      " y =  6  x=  10\n",
      " y =  7  x=  10\n",
      " y =  8  x=  9\n",
      " y =  9  x=  9\n",
      " y =  3  x=  9\n",
      " y =  4  x=  9\n",
      " y =  5  x=  10\n",
      " y =  6  x=  10\n",
      " y =  7  x=  10\n",
      " y =  8  x=  9\n",
      " y =  9  x=  9\n",
      " y =  3  x=  9\n",
      " y =  4  x=  9\n",
      " y =  5  x=  10\n",
      " y =  6  x=  10\n",
      " y =  7  x=  10\n",
      " y =  8  x=  9\n",
      " y =  9  x=  9\n",
      " y =  3  x=  9\n",
      " y =  4  x=  9\n",
      " y =  5  x=  10\n",
      " y =  6  x=  10\n",
      " y =  7  x=  10\n",
      " y =  8  x=  9\n",
      " y =  9  x=  9\n",
      " y =  3  x=  9\n",
      " y =  4  x=  9\n",
      " y =  5  x=  10\n",
      " y =  6  x=  10\n",
      " y =  7  x=  10\n",
      " y =  8  x=  9\n",
      " y =  9  x=  9\n"
     ]
    }
   ],
   "source": [
    "# x = sqrt(r*r -(y-k)*(y-k))+h\n",
    "# y = sqrt(r*r -(x-h)*(x-h))+k\n",
    "import math\n",
    "\n",
    "h = 6\n",
    "k = 6\n",
    "r = 4\n",
    "\n",
    "# for x in range(20):\n",
    "#     for y in range(20):\n",
    "#         if 0 < r*r -(x-h)*(x-h) and 0< r*r -(y-k)*(y-k):\n",
    "#             if y == round(math.sqrt(r*r -(x-h)*(x-h))+k) or x == round(math.sqrt(r*r -(y-k)*(y-k))+h):\n",
    "#                 print('*',end='')\n",
    "#     print()\n",
    "\n",
    "\n",
    "for x in range(20):\n",
    "        \n",
    "    for y in range(20):\n",
    "        \n",
    "        if r*r -(y-k)*(y-k) > 0:\n",
    "            print(' y = ',y,' x= ',round(math.sqrt(r*r -(y-k)*(y-k))+h))\n",
    "        if r*r -(x-h)*(x-h) > 0:\n",
    "            print(' x = ',x,' y= ',round(math.sqrt(r*r -(x-h)*(x-h))+k))\n",
    "\n",
    "\n"
   ]
  },
  {
   "cell_type": "code",
   "execution_count": 34,
   "id": "098858a0",
   "metadata": {},
   "outputs": [],
   "source": [
    "# for x in range(20):\n",
    "        \n",
    "#     for y in range(20):\n",
    "        \n",
    "#         if r*r -(y-k)*(y-k) > 0:\n",
    "#             print(' y= ',y,' x= ',round(math.sqrt(r*r -(y-k)*(y-k))+h))\n",
    "#         if r*r -(x-h)*(x-h) > 0:\n",
    "#             print(' x = ',x,' y= ',round(math.sqrt(r*r -(x-h)*(x-h))+k))"
   ]
  },
  {
   "cell_type": "code",
   "execution_count": 59,
   "id": "6d339613",
   "metadata": {},
   "outputs": [
    {
     "name": "stdout",
     "output_type": "stream",
     "text": [
      "\n",
      "\n",
      "\n",
      "                    \n",
      "                    \n",
      "                    \n",
      "                    \n",
      "                    \n",
      "                    \n",
      "                **  \n",
      "\n",
      "\n",
      "\n",
      "\n",
      "\n",
      "\n",
      "\n",
      "\n",
      "\n",
      "\n"
     ]
    }
   ],
   "source": [
    "for x in range(20):\n",
    "    if r*r -(x-h)*(x-h) > 0:\n",
    "        yp = round(math.sqrt(r*r -(x-h)*(x-h))+k)\n",
    "        for y in range(20):\n",
    "            if r*r -(y-k)*(y-k) > 0:\n",
    "                xp = round(math.sqrt(r*r -(y-k)*(y-k))+h)\n",
    "            if yp == y:\n",
    "                print('*',end=\"\")\n",
    "\n",
    "            elif xp == x:\n",
    "                print('*',end=\"\")\n",
    "            else:\n",
    "                print(' ',end='')\n",
    "            \n",
    "    print()"
   ]
  },
  {
   "cell_type": "code",
   "execution_count": 68,
   "id": "a20f6503",
   "metadata": {},
   "outputs": [
    {
     "name": "stdout",
     "output_type": "stream",
     "text": [
      " y=  3  x=  9\n",
      " y=  4  x=  9\n",
      " y=  5  x=  10\n",
      " y=  6  x=  10\n",
      " y=  7  x=  10\n",
      " y=  8  x=  9\n",
      " y=  9  x=  9\n",
      " y=  3  x=  9\n",
      " y=  4  x=  9\n",
      " y=  5  x=  10\n",
      " y=  6  x=  10\n",
      " y=  7  x=  10\n",
      " y=  8  x=  9\n",
      " y=  9  x=  9\n",
      " y=  3  x=  9\n",
      " y=  4  x=  9\n",
      " y=  5  x=  10\n",
      " y=  6  x=  10\n",
      " y=  7  x=  10\n",
      " y=  8  x=  9\n",
      " y=  9  x=  9\n",
      " x =  3  y=  9\n",
      " x =  3  y=  9\n",
      " x =  3  y=  9\n",
      " y=  3  x=  9\n",
      " x =  3  y=  9\n",
      " y=  4  x=  9\n",
      " x =  3  y=  9\n",
      " y=  5  x=  10\n",
      " x =  3  y=  9\n",
      " y=  6  x=  10\n",
      " x =  3  y=  9\n",
      " y=  7  x=  10\n",
      " x =  3  y=  9\n",
      " y=  8  x=  9\n",
      " x =  3  y=  9\n",
      " y=  9  x=  9\n",
      " x =  3  y=  9\n",
      " x =  3  y=  9\n",
      " x =  3  y=  9\n",
      " x =  3  y=  9\n",
      " x =  3  y=  9\n",
      " x =  3  y=  9\n",
      " x =  3  y=  9\n",
      " x =  3  y=  9\n",
      " x =  3  y=  9\n",
      " x =  3  y=  9\n",
      " x =  3  y=  9\n",
      " x =  4  y=  9\n",
      " x =  4  y=  9\n",
      " x =  4  y=  9\n",
      " y=  3  x=  9\n",
      " x =  4  y=  9\n",
      " y=  4  x=  9\n",
      " x =  4  y=  9\n",
      " y=  5  x=  10\n",
      " x =  4  y=  9\n",
      " y=  6  x=  10\n",
      " x =  4  y=  9\n",
      " y=  7  x=  10\n",
      " x =  4  y=  9\n",
      " y=  8  x=  9\n",
      " x =  4  y=  9\n",
      " y=  9  x=  9\n",
      " x =  4  y=  9\n",
      " x =  4  y=  9\n",
      " x =  4  y=  9\n",
      " x =  4  y=  9\n",
      " x =  4  y=  9\n",
      " x =  4  y=  9\n",
      " x =  4  y=  9\n",
      " x =  4  y=  9\n",
      " x =  4  y=  9\n",
      " x =  4  y=  9\n",
      " x =  4  y=  9\n",
      " x =  5  y=  10\n",
      " x =  5  y=  10\n",
      " x =  5  y=  10\n",
      " y=  3  x=  9\n",
      " x =  5  y=  10\n",
      " y=  4  x=  9\n",
      " x =  5  y=  10\n",
      " y=  5  x=  10\n",
      " x =  5  y=  10\n",
      " y=  6  x=  10\n",
      " x =  5  y=  10\n",
      " y=  7  x=  10\n",
      " x =  5  y=  10\n",
      " y=  8  x=  9\n",
      " x =  5  y=  10\n",
      " y=  9  x=  9\n",
      " x =  5  y=  10\n",
      " x =  5  y=  10\n",
      " x =  5  y=  10\n",
      " x =  5  y=  10\n",
      " x =  5  y=  10\n",
      " x =  5  y=  10\n",
      " x =  5  y=  10\n",
      " x =  5  y=  10\n",
      " x =  5  y=  10\n",
      " x =  5  y=  10\n",
      " x =  5  y=  10\n",
      " x =  6  y=  10\n",
      " x =  6  y=  10\n",
      " x =  6  y=  10\n",
      " y=  3  x=  9\n",
      " x =  6  y=  10\n",
      " y=  4  x=  9\n",
      " x =  6  y=  10\n",
      " y=  5  x=  10\n",
      " x =  6  y=  10\n",
      " y=  6  x=  10\n",
      " x =  6  y=  10\n",
      " y=  7  x=  10\n",
      " x =  6  y=  10\n",
      " y=  8  x=  9\n",
      " x =  6  y=  10\n",
      " y=  9  x=  9\n",
      " x =  6  y=  10\n",
      " x =  6  y=  10\n",
      " x =  6  y=  10\n",
      " x =  6  y=  10\n",
      " x =  6  y=  10\n",
      " x =  6  y=  10\n",
      " x =  6  y=  10\n",
      " x =  6  y=  10\n",
      " x =  6  y=  10\n",
      " x =  6  y=  10\n",
      " x =  6  y=  10\n",
      " x =  7  y=  10\n",
      " x =  7  y=  10\n",
      " x =  7  y=  10\n",
      " y=  3  x=  9\n",
      " x =  7  y=  10\n",
      " y=  4  x=  9\n",
      " x =  7  y=  10\n",
      " y=  5  x=  10\n",
      " x =  7  y=  10\n",
      " y=  6  x=  10\n",
      " x =  7  y=  10\n",
      " y=  7  x=  10\n",
      " x =  7  y=  10\n",
      " y=  8  x=  9\n",
      " x =  7  y=  10\n",
      " y=  9  x=  9\n",
      " x =  7  y=  10\n",
      " x =  7  y=  10\n",
      " x =  7  y=  10\n",
      " x =  7  y=  10\n",
      " x =  7  y=  10\n",
      " x =  7  y=  10\n",
      " x =  7  y=  10\n",
      " x =  7  y=  10\n",
      " x =  7  y=  10\n",
      " x =  7  y=  10\n",
      " x =  7  y=  10\n",
      " x =  8  y=  9\n",
      " x =  8  y=  9\n",
      " x =  8  y=  9\n",
      " y=  3  x=  9\n",
      " x =  8  y=  9\n",
      " y=  4  x=  9\n",
      " x =  8  y=  9\n",
      " y=  5  x=  10\n",
      " x =  8  y=  9\n",
      " y=  6  x=  10\n",
      " x =  8  y=  9\n",
      " y=  7  x=  10\n",
      " x =  8  y=  9\n",
      " y=  8  x=  9\n",
      " x =  8  y=  9\n",
      " y=  9  x=  9\n",
      " x =  8  y=  9\n",
      " x =  8  y=  9\n",
      " x =  8  y=  9\n",
      " x =  8  y=  9\n",
      " x =  8  y=  9\n",
      " x =  8  y=  9\n",
      " x =  8  y=  9\n",
      " x =  8  y=  9\n",
      " x =  8  y=  9\n",
      " x =  8  y=  9\n",
      " x =  8  y=  9\n",
      " x =  9  y=  9\n",
      " x =  9  y=  9\n",
      " x =  9  y=  9\n",
      " y=  3  x=  9\n",
      " x =  9  y=  9\n",
      " y=  4  x=  9\n",
      " x =  9  y=  9\n",
      " y=  5  x=  10\n",
      " x =  9  y=  9\n",
      " y=  6  x=  10\n",
      " x =  9  y=  9\n",
      " y=  7  x=  10\n",
      " x =  9  y=  9\n",
      " y=  8  x=  9\n",
      " x =  9  y=  9\n",
      " y=  9  x=  9\n",
      " x =  9  y=  9\n",
      " x =  9  y=  9\n",
      " x =  9  y=  9\n",
      " x =  9  y=  9\n",
      " x =  9  y=  9\n",
      " x =  9  y=  9\n",
      " x =  9  y=  9\n",
      " x =  9  y=  9\n",
      " x =  9  y=  9\n",
      " x =  9  y=  9\n",
      " x =  9  y=  9\n",
      " y=  3  x=  9\n",
      " y=  4  x=  9\n",
      " y=  5  x=  10\n",
      " y=  6  x=  10\n",
      " y=  7  x=  10\n",
      " y=  8  x=  9\n",
      " y=  9  x=  9\n",
      " y=  3  x=  9\n",
      " y=  4  x=  9\n",
      " y=  5  x=  10\n",
      " y=  6  x=  10\n",
      " y=  7  x=  10\n",
      " y=  8  x=  9\n",
      " y=  9  x=  9\n",
      " y=  3  x=  9\n",
      " y=  4  x=  9\n",
      " y=  5  x=  10\n",
      " y=  6  x=  10\n",
      " y=  7  x=  10\n",
      " y=  8  x=  9\n",
      " y=  9  x=  9\n",
      " y=  3  x=  9\n",
      " y=  4  x=  9\n",
      " y=  5  x=  10\n",
      " y=  6  x=  10\n",
      " y=  7  x=  10\n",
      " y=  8  x=  9\n",
      " y=  9  x=  9\n",
      " y=  3  x=  9\n",
      " y=  4  x=  9\n",
      " y=  5  x=  10\n",
      " y=  6  x=  10\n",
      " y=  7  x=  10\n",
      " y=  8  x=  9\n",
      " y=  9  x=  9\n",
      " y=  3  x=  9\n",
      " y=  4  x=  9\n",
      " y=  5  x=  10\n",
      " y=  6  x=  10\n",
      " y=  7  x=  10\n",
      " y=  8  x=  9\n",
      " y=  9  x=  9\n",
      " y=  3  x=  9\n",
      " y=  4  x=  9\n",
      " y=  5  x=  10\n",
      " y=  6  x=  10\n",
      " y=  7  x=  10\n",
      " y=  8  x=  9\n",
      " y=  9  x=  9\n",
      " y=  3  x=  9\n",
      " y=  4  x=  9\n",
      " y=  5  x=  10\n",
      " y=  6  x=  10\n",
      " y=  7  x=  10\n",
      " y=  8  x=  9\n",
      " y=  9  x=  9\n",
      " y=  3  x=  9\n",
      " y=  4  x=  9\n",
      " y=  5  x=  10\n",
      " y=  6  x=  10\n",
      " y=  7  x=  10\n",
      " y=  8  x=  9\n",
      " y=  9  x=  9\n",
      " y=  3  x=  9\n",
      " y=  4  x=  9\n",
      " y=  5  x=  10\n",
      " y=  6  x=  10\n",
      " y=  7  x=  10\n",
      " y=  8  x=  9\n",
      " y=  9  x=  9\n",
      "{9: 19, 10: 19, 3: 9, 4: 9, 5: 10, 6: 10, 7: 10, 8: 9}\n"
     ]
    }
   ],
   "source": [
    "h = 6\n",
    "k = 6\n",
    "r = 4\n",
    "xy = {}\n",
    "for x in range(20):\n",
    "        \n",
    "    for y in range(20):\n",
    "        ls = [0,0]\n",
    "        if r*r -(y-k)*(y-k) > 0:\n",
    "            \n",
    "            print(' y= ',y,' x= ',round(math.sqrt(r*r -(y-k)*(y-k))+h))\n",
    "            xy[round(math.sqrt(r*r -(y-k)*(y-k))+h)] = x\n",
    "        if r*r -(x-h)*(x-h) > 0:\n",
    "            xy[x] = round(math.sqrt(r*r -(x-h)*(x-h))+k)\n",
    "            print(' x = ',x,' y= ',round(math.sqrt(r*r -(x-h)*(x-h))+k))\n",
    "            \n",
    "print(xy)\n",
    "            \n",
    "# for x in range(12):\n",
    "#     for y in range(12):\n",
    "#         if \n",
    "        "
   ]
  },
  {
   "cell_type": "code",
   "execution_count": 118,
   "id": "f42d98e7",
   "metadata": {},
   "outputs": [
    {
     "name": "stdout",
     "output_type": "stream",
     "text": [
      "                                                            \n",
      "                                                            \n",
      "                                                            \n",
      "                                                            \n",
      "                                                            \n",
      "                                                            \n",
      "                                                            \n",
      "                                                            \n",
      "                                                            \n",
      "                                       *                    \n",
      "                                         *                  \n",
      "                                           *                \n",
      "                                           *                \n",
      "                                             *              \n",
      "                                             *              \n",
      "                                             *              \n",
      "                                             *              \n",
      "                                             *              \n",
      "                                           *                \n",
      "                   *                       *                \n",
      "                     *                   *                  \n",
      "                       * *           * *                    \n",
      "                           * * * * *                        \n",
      "                                                            \n",
      "                                                            \n",
      "                                                            \n",
      "                                                            \n",
      "                                                            \n",
      "                                                            \n",
      "                                                            \n"
     ]
    }
   ],
   "source": [
    "h = 15\n",
    "k = 15\n",
    "r = 7\n",
    "y = 0\n",
    "for x in range(30):\n",
    "    yc = 90\n",
    "    if r*r -(x-h)*(x-h) > 0:\n",
    "        yc = round(math.sqrt(r*r -(x-h)*(x-h))+k)\n",
    "#         print(yc)\n",
    "    for y in range(30):\n",
    "        xc = 90\n",
    "        if r*r -(y-k)*(y-k) > 0:\n",
    "            xc = round(math.sqrt(r*r -(y-k)*(y-k))+h)\n",
    "        if x == xc and xc != 90:\n",
    "            print(' *',end='')\n",
    "        elif y == yc and yc!= 90:\n",
    "            print(' *',end='')\n",
    "        else:\n",
    "            print('  ',end='')\n",
    "    print()\n",
    "        \n",
    "#         if r*r -(y-k)*(y-k) > 0:\n",
    "#             if x == xc:\n",
    "        \n",
    "        \n",
    "#             xc = round(math.sqrt(r*r -(y-k)*(y-k))+h)\n",
    "\n",
    "#             print(' y= ',y,' x= ',)\n",
    "#             xy[round(math.sqrt(r*r -(y-k)*(y-k))+h)] = x\n",
    "#         if r*r -(x-h)*(x-h) > 0:\n",
    "#             print(' x = ',x,' y= ',round(math.sqrt(r*r -(x-h)*(x-h))+k))"
   ]
  },
  {
   "cell_type": "code",
   "execution_count": 128,
   "id": "36db7304",
   "metadata": {},
   "outputs": [
    {
     "data": {
      "text/plain": [
       "2"
      ]
     },
     "execution_count": 128,
     "metadata": {},
     "output_type": "execute_result"
    }
   ],
   "source": [
    "round(math.sqrt(5))"
   ]
  },
  {
   "cell_type": "code",
   "execution_count": 126,
   "id": "296f5b95",
   "metadata": {},
   "outputs": [
    {
     "data": {
      "text/plain": [
       "3.0"
      ]
     },
     "execution_count": 126,
     "metadata": {},
     "output_type": "execute_result"
    }
   ],
   "source": [
    "h=k=3\n",
    "r=2\n",
    "y=0\n",
    "x=1\n",
    "math.sqrt((r*r) -(x-k)*(x-k))+h"
   ]
  },
  {
   "cell_type": "code",
   "execution_count": 5,
   "id": "0e42ae7f",
   "metadata": {},
   "outputs": [
    {
     "name": "stdout",
     "output_type": "stream",
     "text": [
      "                                                                                                                        \n",
      "                                                   * * * * * * * * * * *                                                \n",
      "                                           * * * *                       * * * *                                        \n",
      "                                       * *                                       * *                                    \n",
      "                                   * *                                               * *                                \n",
      "                               * *                                                       * *                            \n",
      "                             *                                                               *                          \n",
      "                         * *                                                                   * *                      \n",
      "                       *                                                                           *                    \n",
      "                     *                                                                               *                  \n",
      "                   *                                                                                   *                \n",
      "                 *                                                                                       *              \n",
      "               *                                                                                           *            \n",
      "               *                                                                                           *            \n",
      "             *                                                                                               *          \n",
      "           *                                                                                                   *        \n",
      "           *                                                                                                   *        \n",
      "         *                                                                                                       *      \n",
      "         *                                                                                                       *      \n",
      "       *                                                                                                           *    \n",
      "       *                                                                                                           *    \n",
      "     *                                                                                                               *  \n",
      "     *                                                                                                               *  \n",
      "     *                                                                                                               *  \n",
      "     *                                                                                                               *  \n",
      "   *                                                                                                                   *\n",
      "   *                                                                                                                   *\n",
      "   *                                                                                                                   *\n",
      "   *                                                                                                                   *\n",
      "   *                                                                                                                   *\n",
      "   *                                                                                                                   *\n",
      "   *                                                                                                                   *\n",
      "   *                                                                                                                   *\n",
      "   *                                                                                                                   *\n",
      "   *                                                                                                                   *\n",
      "   *                                                                                                                   *\n",
      "     *                                                                                                               *  \n",
      "     *                                                                                                               *  \n",
      "     *                                                                                                               *  \n",
      "     *                                                                                                               *  \n",
      "       *                                                                                                           *    \n",
      "       *                                                                                                           *    \n",
      "         *                                                                                                       *      \n",
      "         *                                                                                                       *      \n",
      "           *                                                                                                   *        \n",
      "           *                                                                                                   *        \n",
      "             *                                                                                               *          \n",
      "               *                                                                                           *            \n",
      "               *                                                                                           *            \n",
      "                 *                                                                                       *              \n",
      "                   *                                                                                   *                \n",
      "                     *                                                                               *                  \n",
      "                       *                                                                           *                    \n",
      "                         * *                                                                   * *                      \n",
      "                             *                                                               *                          \n",
      "                               * *                                                       * *                            \n",
      "                                   * *                                               * *                                \n",
      "                                       * *                                       * *                                    \n",
      "                                           * * * *                       * * * *                                        \n",
      "                                                   * * * * * * * * * * *                                                \n"
     ]
    }
   ],
   "source": [
    "import math\n",
    "r = 29\n",
    "h=k= r+1\n",
    "for x in range(2*h):\n",
    "    yc = yc2 = 900\n",
    "    if r*r -(x-h)*(x-h) > 0:\n",
    "        yc = round(math.sqrt(r*r -(x-h)*(x-h))+k)\n",
    "        yc2 = k - (yc - k)\n",
    "    for y in range(2*h):\n",
    "        xc = xc2 = 900\n",
    "        if r*r -(y-k)*(y-k) > 0:\n",
    "            xc = round(math.sqrt(r*r -(y-k)*(y-k))+h)\n",
    "            xc2 = h - (xc - h)\n",
    "        if (x == xc or xc2 == x) and (xc != 90 and xc2 != 90):\n",
    "            print(' *',end='')\n",
    "            \n",
    "        elif (y == yc or y == yc2) and (yc != 90 and yc2 != 90):\n",
    "            print(' *',end='')\n",
    "        else:\n",
    "            print('  ',end='')\n",
    "    print()"
   ]
  },
  {
   "cell_type": "code",
   "execution_count": 2,
   "id": "f96bf0bf",
   "metadata": {},
   "outputs": [
    {
     "data": {
      "text/plain": [
       "{1: 'Ram', 2: 'mohan', 3: 'geeta'}"
      ]
     },
     "execution_count": 2,
     "metadata": {},
     "output_type": "execute_result"
    }
   ],
   "source": [
    "d1 = {\n",
    "    1: 'Ram',\n",
    "    2:'mohan',\n",
    "    3:'geeta'\n",
    "}\n",
    "d1"
   ]
  },
  {
   "cell_type": "code",
   "execution_count": 7,
   "id": "e91f1c57",
   "metadata": {},
   "outputs": [],
   "source": [
    "d1.get(0)"
   ]
  },
  {
   "cell_type": "code",
   "execution_count": 14,
   "id": "7ff8694d",
   "metadata": {},
   "outputs": [
    {
     "name": "stdout",
     "output_type": "stream",
     "text": [
      "Enter the number of students3\n",
      "Enter the name of studentr\n",
      "marks in Maths5\n",
      "marks in Science7\n",
      "marks in English9\n",
      "Enter the name of studentj\n",
      "marks in Maths5\n",
      "marks in Science2\n",
      "marks in English8\n",
      "Enter the name of studentt\n",
      "marks in Maths7\n",
      "marks in Science9\n",
      "marks in English1\n",
      "r  avg mark is  7.0\n",
      "\n",
      "j  avg mark is  5.0\n",
      "\n",
      "t  avg mark is  5.666666666666667\n",
      "\n"
     ]
    },
    {
     "data": {
      "text/plain": [
       "{'r': {'Math': 5, 'Science': 7, 'English': 9},\n",
       " 'j': {'Math': 5, 'Science': 2, 'English': 8},\n",
       " 't': {'Math': 7, 'Science': 9, 'English': 1}}"
      ]
     },
     "execution_count": 14,
     "metadata": {},
     "output_type": "execute_result"
    }
   ],
   "source": [
    "a = \"I love programming and i want to become a software dev\"\n",
    "students = {}\n",
    "\n",
    "n = int(input('Enter the number of students'))\n",
    "for i in range(n):\n",
    "    name = input('Enter the name of student')\n",
    "    mMark = int(input('marks in Maths'))\n",
    "    sMark = int(input('marks in Science'))\n",
    "    eMark = int(input('marks in English'))\n",
    "    students[name] = {'Math': mMark,'Science':sMark,'English':eMark}\n",
    "   \n",
    "for j in students:\n",
    "    print(j,' avg mark is ',(students[j]['Math']+students[j]['Science']+students[j]['English'])/3)\n",
    "    print()\n",
    "  \n",
    "students\n",
    "\n",
    "\n"
   ]
  },
  {
   "cell_type": "code",
   "execution_count": 27,
   "id": "3e876d42",
   "metadata": {},
   "outputs": [
    {
     "name": "stdout",
     "output_type": "stream",
     "text": [
      "Enter the item you want to eat berger\n",
      "Price of  berger  is  150\n"
     ]
    }
   ],
   "source": [
    "menu = {'pizza':450,'sandwitch':200,'berger':150,'chiken wings':300,'cerry shake':300,'Doughnuts':250,'coffe':50,'frech fries':150}\n",
    "item = input('Enter the item you want to eat ')\n",
    "if item in menu:\n",
    "    print('Price of ',item,' is ',menu[item])"
   ]
  },
  {
   "cell_type": "code",
   "execution_count": 26,
   "id": "b0872f09",
   "metadata": {},
   "outputs": [
    {
     "name": "stdout",
     "output_type": "stream",
     "text": [
      "Which port is known as Queen of Arabian Sea?\n",
      "1 :  Vizag port\n",
      "2 :  Paradip port\n",
      "3 :  Kochi Port\n",
      "4 :  Mumbai Port\n",
      "5 :  skip\n",
      "3\n",
      "right\n",
      "\n",
      "Which among the following peaks is known as “Five Treasures of Great Show”?\n",
      "1 :  Lhotse\n",
      "2 :  Godwin Austen\n",
      "3 :  Kanchenjunga\n",
      "4 :  Dhaulagiri\n",
      "5 :  skip\n",
      "5\n",
      "“Satmala Hills” are located in which among the following states?\n",
      "1 :  Gujarat\n",
      "2 :  Uttar Pradesh\n",
      "3 :  Maharashtra\n",
      "4 :  Rajasthan\n",
      "5 :  skip\n",
      "3\n",
      "right\n",
      "\n",
      "In which among the following states is located the Banihal Pass?\n",
      "1 :  Jammu & Kashmir\n",
      "2 :  Himachal Pradesh\n",
      "3 :  Uttarakhand\n",
      "4 :  Sikkim\n",
      "5 :  skip\n",
      "3\n",
      "wrong\n",
      "\n"
     ]
    }
   ],
   "source": [
    "mcq_qes = {'Which port is known as Queen of Arabian Sea?':[['Vizag port','Paradip port','Kochi Port','Mumbai Port'],['Kochi Port']],\n",
    "          'Which among the following peaks is known as “Five Treasures of Great Show”?':[['Lhotse','Godwin Austen','Kanchenjunga','Dhaulagiri'],['Kanchenjunga']],\n",
    "          '“Satmala Hills” are located in which among the following states?':[['Gujarat','Uttar Pradesh','Maharashtra','Rajasthan'],['Maharashtra']],\n",
    "          'In which among the following states is located the Banihal Pass?':[['Jammu & Kashmir','Himachal Pradesh','Uttarakhand','Sikkim'],['Jammu & Kashmir']]}\n",
    "\n",
    "for i in mcq_qes:\n",
    "    print(i)\n",
    "    c=0\n",
    "    for j in mcq_qes[i][0]:\n",
    "        c+=1\n",
    "        print(c,\": \",j)\n",
    "    print('5 :  skip')\n",
    "    ans = int(input())\n",
    "    if ans == 5:\n",
    "        continue\n",
    "    elif mcq_qes[i][0][ans-1] == mcq_qes[i][1][0]:\n",
    "        print('right')\n",
    "    else:\n",
    "        print('wrong')\n",
    "    print()\n",
    "        \n",
    "    "
   ]
  },
  {
   "cell_type": "code",
   "execution_count": 35,
   "id": "ce9ffb4d",
   "metadata": {},
   "outputs": [
    {
     "name": "stdout",
     "output_type": "stream",
     "text": [
      "subject number 2\n",
      "student number 2\n",
      "namera\n",
      "Enter sub  s\n",
      "enter mark  45\n",
      "Enter sub  ma\n",
      "enter mark  6\n",
      "namet\n",
      "Enter sub  fa\n",
      "enter mark  7\n",
      "Enter sub  sa\n",
      "enter mark  78\n",
      "{'ra': {'s': 45, 'ma': 6}, 't': {'fa': 7, 'sa': 78}}\n",
      "{'fa': 7, 'sa': 78}\n"
     ]
    }
   ],
   "source": [
    "\n",
    "n = int(input('subject number '))\n",
    "s = int(input('student number '))\n",
    "st = {}\n",
    "\n",
    "for k in range(s):\n",
    "    name = input('name')\n",
    "    subD = {}\n",
    "    for i in range(n):\n",
    "        sub = input('Enter sub  ')\n",
    "        mark = int(input('enter mark  '))\n",
    "        subD[sub] = mark\n",
    "    st[name] = subD \n",
    "print(st)\n",
    "print(subD)\n"
   ]
  },
  {
   "cell_type": "code",
   "execution_count": 29,
   "id": "e8c52a8f",
   "metadata": {},
   "outputs": [
    {
     "name": "stdout",
     "output_type": "stream",
     "text": [
      "relience stock gets  170  loss\n",
      "tcs stock gets  400  profit\n",
      "wipro stock gets  0  profit\n",
      "adobe stock gets  400  profit\n"
     ]
    }
   ],
   "source": [
    "buy = {'relience':{'open':300,'closing price':200,'high':100,'low':150},\n",
    "      'tcs':{'open':100,'closing price':400,'high':500,'low':190},\n",
    "      'wipro':{'open':100,'closing price':300,'high':300,'low':50},\n",
    "      'adobe':{'open':800,'closing price':600,'high':1000,'low':350},}\n",
    "sell = {'relience':{'open':300,'closing price':130,'high':100,'low':150},\n",
    "       'tcs':{'open':100,'closing price':500,'high':500,'low':190},\n",
    "      'wipro':{'open':100,'closing price':100,'high':300,'low':50},\n",
    "      'adobe':{'open':800,'closing price':1200,'high':1000,'low':350},}\n",
    "\n",
    "for i in sell:\n",
    "    if(buy[i]['open']>sell[i]['closing price']):\n",
    "        print(i,'stock gets ',buy[i]['open']-sell[i]['closing price'],' loss')\n",
    "    else:\n",
    "        print(i,'stock gets ',sell[i]['closing price']-buy[i]['open'],' profit')\n"
   ]
  },
  {
   "cell_type": "code",
   "execution_count": 13,
   "id": "be0b4717",
   "metadata": {},
   "outputs": [
    {
     "data": {
      "text/plain": [
       "'g'"
      ]
     },
     "execution_count": 13,
     "metadata": {},
     "output_type": "execute_result"
    }
   ],
   "source": [
    "t1 = 'g','h','l',[1,3,2]\n",
    "\n",
    "a"
   ]
  },
  {
   "cell_type": "markdown",
   "id": "7e3db708",
   "metadata": {},
   "source": [
    "#### "
   ]
  },
  {
   "cell_type": "code",
   "execution_count": 3,
   "id": "2684b6a9",
   "metadata": {},
   "outputs": [
    {
     "data": {
      "text/plain": [
       "1"
      ]
     },
     "execution_count": 3,
     "metadata": {},
     "output_type": "execute_result"
    }
   ],
   "source": [
    "t1.index('h')\n"
   ]
  },
  {
   "cell_type": "code",
   "execution_count": 14,
   "id": "e4772912",
   "metadata": {},
   "outputs": [
    {
     "data": {
      "text/plain": [
       "[1, 3, 5]"
      ]
     },
     "execution_count": 14,
     "metadata": {},
     "output_type": "execute_result"
    }
   ],
   "source": [
    "t1[-1][2]=5\n",
    "t1[-1]"
   ]
  },
  {
   "cell_type": "code",
   "execution_count": 34,
   "id": "4a7aeb51",
   "metadata": {},
   "outputs": [
    {
     "name": "stdout",
     "output_type": "stream",
     "text": [
      "<class 'tuple'>\n"
     ]
    },
    {
     "data": {
      "text/plain": [
       "(1, 2, 3, 4, 5, 7, 6, 8, 9, 0, 7, 8)"
      ]
     },
     "execution_count": 34,
     "metadata": {},
     "output_type": "execute_result"
    }
   ],
   "source": [
    "t1 = 1,2,3,4,5\n",
    "t2 = 7,6,8,9,0,7,8\n",
    "t3=[]\n",
    "\n",
    "for i in t1:\n",
    "    t3.append(i)\n",
    "for i in t2:\n",
    "    t3.append(i)\n",
    "\n",
    "t4 = tuple(t3)\n",
    "print(type(t4))\n",
    "t4\n",
    "\n",
    "# if(len(t1)>len(t2)):\n",
    "#     size = len(t1)\n",
    "# else:\n",
    "#     size = len(t2)\n",
    "# for i,j in range(size):\n",
    "#     if\n",
    "#     t3.append(j)\n",
    "#     t3.append(i)"
   ]
  },
  {
   "cell_type": "code",
   "execution_count": null,
   "id": "a29a469b",
   "metadata": {},
   "outputs": [],
   "source": []
  },
  {
   "cell_type": "code",
   "execution_count": 12,
   "id": "39f8e4de",
   "metadata": {},
   "outputs": [
    {
     "ename": "KeyboardInterrupt",
     "evalue": "Interrupted by user",
     "output_type": "error",
     "traceback": [
      "\u001b[1;31m---------------------------------------------------------------------------\u001b[0m",
      "\u001b[1;31mKeyboardInterrupt\u001b[0m                         Traceback (most recent call last)",
      "\u001b[1;32m<ipython-input-12-101f8149a088>\u001b[0m in \u001b[0;36m<module>\u001b[1;34m\u001b[0m\n\u001b[0;32m      4\u001b[0m \u001b[1;33m\u001b[0m\u001b[0m\n\u001b[0;32m      5\u001b[0m \u001b[0mch\u001b[0m \u001b[1;33m=\u001b[0m \u001b[1;36m0\u001b[0m\u001b[1;33m\u001b[0m\u001b[1;33m\u001b[0m\u001b[0m\n\u001b[1;32m----> 6\u001b[1;33m \u001b[0mguess\u001b[0m \u001b[1;33m=\u001b[0m \u001b[0mint\u001b[0m\u001b[1;33m(\u001b[0m\u001b[0minput\u001b[0m\u001b[1;33m(\u001b[0m\u001b[1;34m\"Guess the number\"\u001b[0m\u001b[1;33m)\u001b[0m\u001b[1;33m)\u001b[0m\u001b[1;33m\u001b[0m\u001b[1;33m\u001b[0m\u001b[0m\n\u001b[0m\u001b[0;32m      7\u001b[0m \u001b[1;32mif\u001b[0m\u001b[1;33m(\u001b[0m\u001b[0mguess\u001b[0m \u001b[1;33m==\u001b[0m \u001b[0mrand\u001b[0m\u001b[1;33m)\u001b[0m\u001b[1;33m:\u001b[0m\u001b[1;33m\u001b[0m\u001b[1;33m\u001b[0m\u001b[0m\n\u001b[0;32m      8\u001b[0m     \u001b[0mprint\u001b[0m\u001b[1;33m(\u001b[0m\u001b[1;34m'You are guessed correctly in '\u001b[0m\u001b[1;33m,\u001b[0m\u001b[0mch\u001b[0m\u001b[1;33m,\u001b[0m\u001b[1;34m'th move'\u001b[0m\u001b[1;33m)\u001b[0m\u001b[1;33m\u001b[0m\u001b[1;33m\u001b[0m\u001b[0m\n",
      "\u001b[1;32mc:\\users\\pradyumn bisht\\appdata\\local\\programs\\python\\python37\\lib\\site-packages\\ipykernel\\kernelbase.py\u001b[0m in \u001b[0;36mraw_input\u001b[1;34m(self, prompt)\u001b[0m\n\u001b[0;32m    849\u001b[0m             \u001b[0mself\u001b[0m\u001b[1;33m.\u001b[0m\u001b[0m_parent_ident\u001b[0m\u001b[1;33m,\u001b[0m\u001b[1;33m\u001b[0m\u001b[1;33m\u001b[0m\u001b[0m\n\u001b[0;32m    850\u001b[0m             \u001b[0mself\u001b[0m\u001b[1;33m.\u001b[0m\u001b[0m_parent_header\u001b[0m\u001b[1;33m,\u001b[0m\u001b[1;33m\u001b[0m\u001b[1;33m\u001b[0m\u001b[0m\n\u001b[1;32m--> 851\u001b[1;33m             \u001b[0mpassword\u001b[0m\u001b[1;33m=\u001b[0m\u001b[1;32mFalse\u001b[0m\u001b[1;33m,\u001b[0m\u001b[1;33m\u001b[0m\u001b[1;33m\u001b[0m\u001b[0m\n\u001b[0m\u001b[0;32m    852\u001b[0m         )\n\u001b[0;32m    853\u001b[0m \u001b[1;33m\u001b[0m\u001b[0m\n",
      "\u001b[1;32mc:\\users\\pradyumn bisht\\appdata\\local\\programs\\python\\python37\\lib\\site-packages\\ipykernel\\kernelbase.py\u001b[0m in \u001b[0;36m_input_request\u001b[1;34m(self, prompt, ident, parent, password)\u001b[0m\n\u001b[0;32m    890\u001b[0m             \u001b[1;32mexcept\u001b[0m \u001b[0mKeyboardInterrupt\u001b[0m\u001b[1;33m:\u001b[0m\u001b[1;33m\u001b[0m\u001b[1;33m\u001b[0m\u001b[0m\n\u001b[0;32m    891\u001b[0m                 \u001b[1;31m# re-raise KeyboardInterrupt, to truncate traceback\u001b[0m\u001b[1;33m\u001b[0m\u001b[1;33m\u001b[0m\u001b[1;33m\u001b[0m\u001b[0m\n\u001b[1;32m--> 892\u001b[1;33m                 \u001b[1;32mraise\u001b[0m \u001b[0mKeyboardInterrupt\u001b[0m\u001b[1;33m(\u001b[0m\u001b[1;34m\"Interrupted by user\"\u001b[0m\u001b[1;33m)\u001b[0m \u001b[1;32mfrom\u001b[0m \u001b[1;32mNone\u001b[0m\u001b[1;33m\u001b[0m\u001b[1;33m\u001b[0m\u001b[0m\n\u001b[0m\u001b[0;32m    893\u001b[0m             \u001b[1;32mexcept\u001b[0m \u001b[0mException\u001b[0m \u001b[1;32mas\u001b[0m \u001b[0me\u001b[0m\u001b[1;33m:\u001b[0m\u001b[1;33m\u001b[0m\u001b[1;33m\u001b[0m\u001b[0m\n\u001b[0;32m    894\u001b[0m                 \u001b[0mself\u001b[0m\u001b[1;33m.\u001b[0m\u001b[0mlog\u001b[0m\u001b[1;33m.\u001b[0m\u001b[0mwarning\u001b[0m\u001b[1;33m(\u001b[0m\u001b[1;34m\"Invalid Message:\"\u001b[0m\u001b[1;33m,\u001b[0m \u001b[0mexc_info\u001b[0m\u001b[1;33m=\u001b[0m\u001b[1;32mTrue\u001b[0m\u001b[1;33m)\u001b[0m\u001b[1;33m\u001b[0m\u001b[1;33m\u001b[0m\u001b[0m\n",
      "\u001b[1;31mKeyboardInterrupt\u001b[0m: Interrupted by user"
     ]
    }
   ],
   "source": [
    "import random\n",
    "\n",
    "rand = random.randint(1,101)\n",
    "\n",
    "ch = 0\n",
    "guess = int(input(\"Guess the number\"))\n",
    "if(guess == rand):\n",
    "    print('You are guessed correctly in ',ch,'th move')\n",
    "elif(abs(rand-guess) <= 10):\n",
    "    print('WARM!')\n",
    "elif(guess<1 or guess>100):\n",
    "    print('OUT OF BOUNDS!')\n",
    "else:\n",
    "    print(\"COLD!\")\n",
    "    \n",
    "ch+=1\n",
    "last_guess = abs(rand-guess)\n",
    "\n",
    "while(guess!=rand):\n",
    "    guess = int(input('Guess the number'))\n",
    "    ch+=1\n",
    "    if(guess == rand):\n",
    "        print('You are guessed correctly in ',ch,'th move')\n",
    "    elif(abs(rand-guess)<= last_guess):\n",
    "        print('WARMER!')\n",
    "    elif(guess<1 or guess>100):\n",
    "        print('OUT OF BOUNDS!')\n",
    "    else:\n",
    "        print('COLDER!')\n",
    "    last_guess = abs(rand-guess)\n",
    "    \n",
    "          \n",
    "    \n",
    "        \n",
    "        \n",
    "    "
   ]
  },
  {
   "cell_type": "code",
   "execution_count": 30,
   "id": "b9ea552e",
   "metadata": {},
   "outputs": [
    {
     "data": {
      "text/plain": [
       "'C:\\\\Users\\\\Pradyumn Bisht'"
      ]
     },
     "execution_count": 30,
     "metadata": {},
     "output_type": "execute_result"
    }
   ],
   "source": [
    "pwd\n"
   ]
  },
  {
   "cell_type": "code",
   "execution_count": 29,
   "id": "265c46a5",
   "metadata": {},
   "outputs": [
    {
     "name": "stdout",
     "output_type": "stream",
     "text": [
      "Username is  bistcosmin Email is gmail.com\n",
      "<class 'str'>\n"
     ]
    }
   ],
   "source": [
    "s = 'bistcosmin@gmail.com'\n",
    "d = {'email' : 'bistcosmin@gmail.com'}\n",
    "l = ['bistcosmin@gmail.com']\n",
    "t = ('bistcosmin@gmail.com',)\n",
    "\n",
    "m = s\n",
    "if type(m) == tuple:\n",
    "    part = m[0].split('@')\n",
    "    print('Username is ',part[0],'Email is',part[1])\n",
    "    print(type(m))\n",
    "elif type(m) == dict:\n",
    "    part = m['email'].split('@')\n",
    "    print('Username is ',part[0],'Email is',part[1])\n",
    "    print(type(m))\n",
    "elif type(m) == list:\n",
    "    part = m[0].split('@')\n",
    "    print('Username is ',part[0],'Email is',part[1])\n",
    "    print(type(m))\n",
    "elif type(m) == str:\n",
    "    part = m.split('@')\n",
    "    print('Username is ',part[0],'Email is',part[1])\n",
    "    print(type(m))\n",
    "\n",
    "\n",
    "\n",
    "    \n"
   ]
  },
  {
   "cell_type": "code",
   "execution_count": null,
   "id": "253ebea2",
   "metadata": {},
   "outputs": [],
   "source": []
  }
 ],
 "metadata": {
  "kernelspec": {
   "display_name": "Python 3",
   "language": "python",
   "name": "python3"
  },
  "language_info": {
   "codemirror_mode": {
    "name": "ipython",
    "version": 3
   },
   "file_extension": ".py",
   "mimetype": "text/x-python",
   "name": "python",
   "nbconvert_exporter": "python",
   "pygments_lexer": "ipython3",
   "version": "3.7.2"
  }
 },
 "nbformat": 4,
 "nbformat_minor": 5
}
