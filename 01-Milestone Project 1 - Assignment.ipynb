{
 "cells": [
  {
   "cell_type": "markdown",
   "metadata": {},
   "source": [
    "# Milestone Project 1\n",
    "\n",
    "You've already learned a ton and are ready to work on a real project.\n",
    "\n",
    "Your assignment: Create a Tic Tac Toe game. You are free to use any IDE you like.\n",
    "\n",
    "Here are the requirements:\n",
    "\n",
    "* 2 players should be able to play the game (both sitting at the same computer)\n",
    "* The board should be printed out every time a player makes a move\n",
    "* You should be able to accept input of the player position and then place a symbol on the board\n",
    "\n",
    "Feel free to use Google to help you figure anything out (but don't just Google \"Tic Tac Toe in Python\" otherwise you won't learn anything!) Keep in mind that this project can take anywhere between several hours to several days.\n",
    "\n",
    "\n",
    "I encourage you to just try to start the project on your own without referencing any of the notebooks. If you get stuck, check out the next lecture which is a text lecture with helpful hints and steps. If you're still stuck after that, then check out the Walkthrough Steps Workbook, which breaks up the project in steps for you to solve. Still stuck? Then i will walk you through the solution notebook\n"
   ]
  },
  {
   "cell_type": "markdown",
   "metadata": {},
   "source": [
    "There are parts of this that will be a struggle...and that is good! I have complete faith that if you have made it this far  you have all the tools and knowledge to tackle this project. Remember, it's totally open book, so take your time, do a little research, and remember:\n"
   ]
  },
  {
   "cell_type": "code",
   "execution_count": null,
   "metadata": {},
   "outputs": [],
   "source": [
    "from IPython.display import clear_output\n",
    "\n",
    "\n",
    "\n",
    "def print_table(l):\n",
    "    print('|',l[1],'|',l[2],'|',l[3],'|')\n",
    "    print('|',l[4],'|',l[5],'|',l[6],'|')\n",
    "    print('|',l[7],'|',l[8],'|',l[9],'|')\n",
    "\n",
    "def not_full(l):\n",
    "    for i in l:\n",
    "        if i == '_' or i == ' ':\n",
    "            return True\n",
    "    return False\n",
    "\n",
    "def win_check(board, mark):\n",
    "    for i in range(1,10,3):\n",
    "        if(board[i] == board[i+1] == board[i+2] == mark):\n",
    "            return True\n",
    "    for i in range(1,4):\n",
    "        if(board[i] == board[i+3] == board[i+6] == mark):\n",
    "            return True\n",
    "    if(board[1]==board[5]==board[9]==mark):\n",
    "        return True\n",
    "    if(board[3]==board[5]==board[7]==mark):\n",
    "        return True\n",
    "\n",
    "\n",
    "lst = ['x',' ',' ',' ',' ',' ',' ',' ',' ',' ']\n",
    "plyr_move = 0\n",
    "while(not_full(lst)):\n",
    "    print_table(lst)\n",
    "    print('player',(plyr_move%2)+1,'move,Enter a number between 1 to 9')\n",
    "    n = int(input())\n",
    "    if lst[n] != ' ':\n",
    "        clear_output()\n",
    "        print('already taken')\n",
    "        continue\n",
    "    if (plyr_move%2+1==1):\n",
    "        lst[n] = 'X'\n",
    "        if(win_check(lst,'X')):\n",
    "            clear_output()\n",
    "            print('X is win')\n",
    "            break\n",
    "    else:\n",
    "        lst[n] = 'O'\n",
    "        if (win_check(lst,'O')):\n",
    "            clear_output()\n",
    "            print('O is win')\n",
    "            break\n",
    "            \n",
    "    clear_output()    \n",
    "    plyr_move += 1\n",
    "    \n",
    "print_table(lst)\n",
    "\n",
    "   \n",
    "    \n"
   ]
  },
  {
   "cell_type": "code",
   "execution_count": 6,
   "metadata": {},
   "outputs": [
    {
     "data": {
      "text/plain": [
       "'C:\\\\Users\\\\Pradyumn Bisht'"
      ]
     },
     "execution_count": 6,
     "metadata": {},
     "output_type": "execute_result"
    }
   ],
   "source": [
    "pwd"
   ]
  },
  {
   "cell_type": "markdown",
   "metadata": {},
   "source": [
    "# "
   ]
  }
 ],
 "metadata": {
  "kernelspec": {
   "display_name": "Python 3",
   "language": "python",
   "name": "python3"
  },
  "language_info": {
   "codemirror_mode": {
    "name": "ipython",
    "version": 3
   },
   "file_extension": ".py",
   "mimetype": "text/x-python",
   "name": "python",
   "nbconvert_exporter": "python",
   "pygments_lexer": "ipython3",
   "version": "3.7.2"
  }
 },
 "nbformat": 4,
 "nbformat_minor": 1
}
